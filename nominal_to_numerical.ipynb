{
 "cells": [
  {
   "cell_type": "markdown",
   "metadata": {},
   "source": [
    "# From nominal values to numerical values -Spark Example (pyspark)\n",
    "\n",
    "\n",
    "This is a practical example of how to transform nominal values to numerical values using Spark. \n",
    "\n",
    "Basically, the main idea is to use the hash function used for the **Spark default partitioning problem** : \n",
    "How do I choose which keys go to a reducer and which go to the other? And what is the fastest way?"
   ]
  },
  {
   "cell_type": "markdown",
   "metadata": {},
   "source": [
    "Spark configuration and files loading:"
   ]
  },
  {
   "cell_type": "code",
   "execution_count": 7,
   "metadata": {},
   "outputs": [],
   "source": [
    "import findspark\n",
    "from pyspark.sql import SparkSession\n",
    "\n",
    "findspark.init(\"/usr/local/spark\")\n",
    "spark = SparkSession.builder \\\n",
    "   .master(\"local[*]\") \\\n",
    "   .appName(\"Test\") \\\n",
    "   .getOrCreate()\n",
    "sc = spark.sparkContext\n",
    "\n",
    "import os\n",
    "\n",
    "file_path = \"/Users/Desktop/data\"\n",
    "files = os.listdir(file_path)[1:]"
   ]
  },
  {
   "cell_type": "markdown",
   "metadata": {},
   "source": [
    "Applying some transformation, it's just an example..."
   ]
  },
  {
   "cell_type": "code",
   "execution_count": null,
   "metadata": {},
   "outputs": [],
   "source": [
    "def apply_preprocessing(rdd) :\n",
    "    '''\n",
    "    This function applies some transformations \n",
    "     - **parameters**, **types**, **return** and **return types**::\n",
    "          :param rdd: RDD to transform\n",
    "          :type rdd: pyspark.rdd.RDD\n",
    "          :return: return the transformed RDD \n",
    "          :rtype: pyspark.rdd.RDD\n",
    "    '''\n",
    "    header = rdd.first()\n",
    "    rdd = rdd.filter(lambda lines : lines!=header)\n",
    "    rdd = rdd.map(lambda (a,b) : ((a,b),1))\n",
    "    rdd = rdd.reduceByKey(lambda a,b : a+b)\n",
    "    return rdd \n",
    "\n",
    "def main() :\n",
    "    for file_path in files : \n",
    "        rdd_new = sc.textFile(file_path)\n",
    "        rdd_new = apply_preprocessing(rdd_new)\n",
    "    return rdd_info    \n",
    "rdd = main()"
   ]
  },
  {
   "cell_type": "markdown",
   "metadata": {},
   "source": [
    "I need to know the total number of instances for generating an unique ID, which is a number, for each instance.\n",
    "* *b* is the value to transform:\n",
    "* *(you can find other ways to count the number of total istances)*"
   ]
  },
  {
   "cell_type": "code",
   "execution_count": null,
   "metadata": {},
   "outputs": [],
   "source": [
    "tot_istances = rdd.map(lambda ((a,b),c) : (b,1)).keys().distinct().count()"
   ]
  },
  {
   "cell_type": "code",
   "execution_count": null,
   "metadata": {},
   "outputs": [],
   "source": [
    "def java_string_hashcode(s):\n",
    "    h = 0\n",
    "    for c in s:\n",
    "        h = (31 * h + ord(c)) & 0xFFFFFFFF\n",
    "    return ((h + 0x80000000) & 0xFFFFFFFF) - 0x80000000\n",
    "import sys \n",
    "\n",
    "def get_hash(istance) :\n",
    "    return (java_string_hashcode(istance) & sys.maxint) % tot_istances"
   ]
  },
  {
   "cell_type": "markdown",
   "metadata": {},
   "source": [
    "Getting the unique ID:"
   ]
  },
  {
   "cell_type": "code",
   "execution_count": null,
   "metadata": {},
   "outputs": [],
   "source": [
    "rdd_final  = rdd.map(lambda ((a,b),c) : (a,get_hash(b),c ))"
   ]
  },
  {
   "cell_type": "markdown",
   "metadata": {},
   "source": [
    "Checking the results:"
   ]
  },
  {
   "cell_type": "code",
   "execution_count": null,
   "metadata": {},
   "outputs": [],
   "source": [
    "rdd_final.take(5)"
   ]
  },
  {
   "cell_type": "code",
   "execution_count": null,
   "metadata": {},
   "outputs": [],
   "source": [
    "rdd.take(5)"
   ]
  }
 ],
 "metadata": {
  "kernelspec": {
   "display_name": "Python 2",
   "language": "python",
   "name": "python2"
  },
  "language_info": {
   "codemirror_mode": {
    "name": "ipython",
    "version": 2
   },
   "file_extension": ".py",
   "mimetype": "text/x-python",
   "name": "python",
   "nbconvert_exporter": "python",
   "pygments_lexer": "ipython2",
   "version": "2.7.14"
  }
 },
 "nbformat": 4,
 "nbformat_minor": 2
}
